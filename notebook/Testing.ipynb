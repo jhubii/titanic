{
 "cells": [
  {
   "cell_type": "code",
   "execution_count": 1,
   "id": "46a1a183-7663-4547-9605-ed6d25d978ac",
   "metadata": {},
   "outputs": [],
   "source": [
    "import pandas as pd\n",
    "import joblib\n",
    "from sklearn.metrics import accuracy_score, precision_score, recall_score, f1_score, confusion_matrix, classification_report"
   ]
  },
  {
   "cell_type": "code",
   "execution_count": 2,
   "id": "590a5210-3b07-4036-8df5-ea1846c144b3",
   "metadata": {},
   "outputs": [],
   "source": [
    "model, scaler, saved_cols = joblib.load(\"../model/titanic_model.pkl\")"
   ]
  },
  {
   "cell_type": "code",
   "execution_count": 3,
   "id": "dea37e3e-0a9a-4b3e-8bc6-b2d4680c5cac",
   "metadata": {},
   "outputs": [],
   "source": [
    "df_test = pd.read_csv(\"../dataset/test.csv\")\n",
    "cols = [\"Pclass\",\"Sex\",\"Age\",\"SibSp\",\"Parch\",\"Fare\",\"Embarked\"]\n",
    "df_test = df_test[cols].copy()"
   ]
  },
  {
   "cell_type": "code",
   "execution_count": 4,
   "id": "9c59fcd3-0378-4b3d-8fae-acfe0f289314",
   "metadata": {},
   "outputs": [],
   "source": [
    "num_cols = [\"Age\",\"SibSp\",\"Parch\",\"Fare\"]\n",
    "cat_cols = [\"Pclass\",\"Sex\",\"Embarked\"]\n",
    "\n",
    "for c in num_cols:\n",
    "    df_test[c] = df_test[c].fillna(df_test[c].median())\n",
    "\n",
    "for c in cat_cols:\n",
    "    df_test[c] = df_test[c].fillna(df_test[c].mode()[0])"
   ]
  },
  {
   "cell_type": "code",
   "execution_count": 5,
   "id": "62f2a7fa-7dd2-48e1-8348-0b8716826e61",
   "metadata": {},
   "outputs": [],
   "source": [
    "df_test = pd.get_dummies(df_test, columns=[\"Pclass\",\"Sex\",\"Embarked\"], drop_first=True)"
   ]
  },
  {
   "cell_type": "code",
   "execution_count": 6,
   "id": "3abbacec-54a6-43b8-b33a-9792bf9d94db",
   "metadata": {},
   "outputs": [],
   "source": [
    "for c in saved_cols:\n",
    "    if c not in df_test.columns:\n",
    "        df_test[c] = 0\n",
    "\n",
    "X_test = df_test[saved_cols]"
   ]
  },
  {
   "cell_type": "code",
   "execution_count": 7,
   "id": "0f3290de-889f-4a63-8b60-db89d45b163e",
   "metadata": {},
   "outputs": [],
   "source": [
    "X_test_scaled = scaler.transform(X_test)\n",
    "predictions = model.predict(X_test_scaled)"
   ]
  },
  {
   "cell_type": "code",
   "execution_count": 9,
   "id": "9edb29dd-36bf-4f86-a893-588493828a38",
   "metadata": {},
   "outputs": [
    {
     "data": {
      "text/html": [
       "<div>\n",
       "<style scoped>\n",
       "    .dataframe tbody tr th:only-of-type {\n",
       "        vertical-align: middle;\n",
       "    }\n",
       "\n",
       "    .dataframe tbody tr th {\n",
       "        vertical-align: top;\n",
       "    }\n",
       "\n",
       "    .dataframe thead th {\n",
       "        text-align: right;\n",
       "    }\n",
       "</style>\n",
       "<table border=\"1\" class=\"dataframe\">\n",
       "  <thead>\n",
       "    <tr style=\"text-align: right;\">\n",
       "      <th></th>\n",
       "      <th>PassengerId</th>\n",
       "      <th>Survived</th>\n",
       "    </tr>\n",
       "  </thead>\n",
       "  <tbody>\n",
       "    <tr>\n",
       "      <th>0</th>\n",
       "      <td>892</td>\n",
       "      <td>0</td>\n",
       "    </tr>\n",
       "    <tr>\n",
       "      <th>1</th>\n",
       "      <td>893</td>\n",
       "      <td>0</td>\n",
       "    </tr>\n",
       "    <tr>\n",
       "      <th>2</th>\n",
       "      <td>894</td>\n",
       "      <td>0</td>\n",
       "    </tr>\n",
       "    <tr>\n",
       "      <th>3</th>\n",
       "      <td>895</td>\n",
       "      <td>0</td>\n",
       "    </tr>\n",
       "    <tr>\n",
       "      <th>4</th>\n",
       "      <td>896</td>\n",
       "      <td>1</td>\n",
       "    </tr>\n",
       "  </tbody>\n",
       "</table>\n",
       "</div>"
      ],
      "text/plain": [
       "   PassengerId  Survived\n",
       "0          892         0\n",
       "1          893         0\n",
       "2          894         0\n",
       "3          895         0\n",
       "4          896         1"
      ]
     },
     "execution_count": 9,
     "metadata": {},
     "output_type": "execute_result"
    }
   ],
   "source": [
    "output = pd.DataFrame({\"PassengerId\": range(892, 892+len(predictions)), \"Survived\": predictions})\n",
    "output.to_csv(\"../predictions/submission.csv\", index=False)\n",
    "output.head()"
   ]
  }
 ],
 "metadata": {
  "kernelspec": {
   "display_name": "Python 3 (ipykernel)",
   "language": "python",
   "name": "python3"
  },
  "language_info": {
   "codemirror_mode": {
    "name": "ipython",
    "version": 3
   },
   "file_extension": ".py",
   "mimetype": "text/x-python",
   "name": "python",
   "nbconvert_exporter": "python",
   "pygments_lexer": "ipython3",
   "version": "3.12.3"
  }
 },
 "nbformat": 4,
 "nbformat_minor": 5
}
